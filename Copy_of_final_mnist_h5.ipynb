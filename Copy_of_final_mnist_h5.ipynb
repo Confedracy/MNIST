{
  "nbformat": 4,
  "nbformat_minor": 0,
  "metadata": {
    "colab": {
      "provenance": [],
      "authorship_tag": "ABX9TyNm6y70cOH2L60ANegNmzo8",
      "include_colab_link": true
    },
    "kernelspec": {
      "name": "python3",
      "display_name": "Python 3"
    },
    "language_info": {
      "name": "python"
    }
  },
  "cells": [
    {
      "cell_type": "markdown",
      "metadata": {
        "id": "view-in-github",
        "colab_type": "text"
      },
      "source": [
        "<a href=\"https://colab.research.google.com/github/Confedracy/MNIST/blob/main/Copy_of_final_mnist_h5.ipynb\" target=\"_parent\"><img src=\"https://colab.research.google.com/assets/colab-badge.svg\" alt=\"Open In Colab\"/></a>"
      ]
    },
    {
      "cell_type": "code",
      "source": [
        "import numpy as np\n",
        "import matplotlib.pyplot as plt\n",
        "import keras\n",
        "from keras.datasets import mnist\n",
        "import tensorflow as tf\n",
        "\n",
        "\n"
      ],
      "metadata": {
        "id": "jkWUua1L0LEl"
      },
      "execution_count": null,
      "outputs": []
    },
    {
      "cell_type": "markdown",
      "source": [
        "Loading Data"
      ],
      "metadata": {
        "id": "c842pgOtwbTI"
      }
    },
    {
      "cell_type": "code",
      "source": [
        "(x_train, y_train), (x_test, y_test) = mnist.load_data()\n",
        "\n"
      ],
      "metadata": {
        "id": "PqTfpH9uMvDu",
        "colab": {
          "base_uri": "https://localhost:8080/"
        },
        "outputId": "ca285707-c38f-436e-d126-a288f476f935"
      },
      "execution_count": null,
      "outputs": [
        {
          "output_type": "stream",
          "name": "stdout",
          "text": [
            "Downloading data from https://storage.googleapis.com/tensorflow/tf-keras-datasets/mnist.npz\n",
            "11490434/11490434 [==============================] - 0s 0us/step\n"
          ]
        }
      ]
    },
    {
      "cell_type": "markdown",
      "source": [
        "Normalization of the image to [0,1] range"
      ],
      "metadata": {
        "id": "5LbGy8wSwtHh"
      }
    },
    {
      "cell_type": "code",
      "source": [
        "x_train = x_train.astype(np.float32) / 255\n",
        "x_test = x_test.astype(np.float32) / 255\n",
        "\n"
      ],
      "metadata": {
        "id": "kM1aRCw_M_iY"
      },
      "execution_count": null,
      "outputs": []
    },
    {
      "cell_type": "markdown",
      "source": [
        "Expand the dimensions of the images to (28, 28, 1)"
      ],
      "metadata": {
        "id": "N8Y61tRgw4Mq"
      }
    },
    {
      "cell_type": "code",
      "source": [
        "x_train = np.expand_dims(x_train, -1)\n",
        "x_test = np.expand_dims(x_test, -1)\n",
        "\n"
      ],
      "metadata": {
        "id": "Vy6vgAnUNGgg"
      },
      "execution_count": null,
      "outputs": []
    },
    {
      "cell_type": "markdown",
      "source": [
        "Convertion of labels to one-hot encoding"
      ],
      "metadata": {
        "id": "lKqe7eapxII0"
      }
    },
    {
      "cell_type": "code",
      "source": [
        "num_classes = 10\n",
        "y_train = tf.keras.utils.to_categorical(y_train, num_classes)\n",
        "y_test = tf.keras.utils.to_categorical(y_test, num_classes)\n",
        "\n"
      ],
      "metadata": {
        "id": "Tk4DN_GBNSpC"
      },
      "execution_count": null,
      "outputs": []
    },
    {
      "cell_type": "markdown",
      "source": [
        "# Defining the model"
      ],
      "metadata": {
        "id": "r7d0sbCHxu-_"
      }
    },
    {
      "cell_type": "code",
      "source": [
        "from keras.models import Sequential\n",
        "from keras.layers import Dense, Conv2D, MaxPool2D, Flatten, Dropout\n",
        "\n",
        "# Define the model\n",
        "model = Sequential()\n",
        "model.add(Conv2D(32, (3, 3), input_shape=(28, 28, 1), activation='relu'))\n",
        "model.add(MaxPool2D((2, 2)))\n",
        "\n",
        "model.add(Conv2D(64, (3, 3), activation='relu'))\n",
        "model.add(MaxPool2D((2, 2)))\n",
        "\n",
        "model.add(Flatten())\n",
        "model.add(Dropout(0.25))\n",
        "model.add(Dense(128, activation='relu'))  # Added dense layer for better learning capacity\n",
        "model.add(Dropout(0.5))  # Added another dropout layer\n",
        "model.add(Dense(10, activation='softmax'))\n",
        "\n",
        "\n",
        "\n"
      ],
      "metadata": {
        "id": "Wpnd4D52NYnD"
      },
      "execution_count": null,
      "outputs": []
    },
    {
      "cell_type": "markdown",
      "source": [
        "Compilation"
      ],
      "metadata": {
        "id": "9uuVlwuQx6-A"
      }
    },
    {
      "cell_type": "code",
      "source": [
        "\n",
        "model.compile(optimizer='adam', loss=keras.losses.categorical_crossentropy, metrics=['accuracy'])\n",
        "\n"
      ],
      "metadata": {
        "id": "1p5LJne_Ndaz"
      },
      "execution_count": null,
      "outputs": []
    },
    {
      "cell_type": "code",
      "source": [
        "from keras.callbacks import EarlyStopping, ModelCheckpoint\n",
        "\n"
      ],
      "metadata": {
        "id": "N5NeKo-qyDUo"
      },
      "execution_count": null,
      "outputs": []
    },
    {
      "cell_type": "markdown",
      "source": [
        "Early Stopping and Model Checkpoint"
      ],
      "metadata": {
        "id": "34pRAU4oynza"
      }
    },
    {
      "cell_type": "code",
      "source": [
        "# EarlyStopping\n",
        "es = EarlyStopping(monitor='val_accuracy', min_delta=0.01, patience=4, verbose=1)\n",
        "mc = ModelCheckpoint('./Final_mnist.h5', monitor='val_accuracy', verbose=1, save_best_only=True)\n",
        "cb = [es, mc]\n"
      ],
      "metadata": {
        "id": "RZKA9uH3yZW6"
      },
      "execution_count": null,
      "outputs": []
    },
    {
      "cell_type": "markdown",
      "source": [
        "# Model Training"
      ],
      "metadata": {
        "id": "1gbZP-1vygcS"
      }
    },
    {
      "cell_type": "code",
      "source": [
        "history = model.fit(x_train, y_train, epochs=10, batch_size=128, validation_split=0.3, callbacks=cb)\n",
        "\n",
        "# Save the model\n",
        "model.save('Final_mnist.keras')\n",
        "\n",
        "# Evaluate the model\n",
        "score = model.evaluate(x_test, y_test)\n",
        "print(f\"The model accuracy is {score[1]}\")\n",
        "\n",
        "# Plot training history\n",
        "plt.plot(history.history['accuracy'], label='train accuracy')\n",
        "plt.plot(history.history['val_accuracy'], label='val accuracy')\n",
        "plt.xlabel('Epochs')\n",
        "plt.ylabel('Accuracy')\n",
        "plt.legend()\n",
        "plt.show()"
      ],
      "metadata": {
        "colab": {
          "base_uri": "https://localhost:8080/",
          "height": 1000
        },
        "id": "qeiYZEKSyHiQ",
        "outputId": "a50955d8-a639-4a29-ee9b-49f9fc97a48e"
      },
      "execution_count": null,
      "outputs": [
        {
          "output_type": "stream",
          "name": "stdout",
          "text": [
            "Epoch 1/10\n",
            "328/329 [============================>.] - ETA: 0s - loss: 0.3745 - accuracy: 0.8827\n",
            "Epoch 1: val_accuracy improved from -inf to 0.97322, saving model to ./Final_mnist.h5\n",
            "329/329 [==============================] - 48s 141ms/step - loss: 0.3743 - accuracy: 0.8827 - val_loss: 0.0876 - val_accuracy: 0.9732\n",
            "Epoch 2/10\n",
            "  1/329 [..............................] - ETA: 29s - loss: 0.0825 - accuracy: 0.9766"
          ]
        },
        {
          "output_type": "stream",
          "name": "stderr",
          "text": [
            "/usr/local/lib/python3.10/dist-packages/keras/src/engine/training.py:3103: UserWarning: You are saving your model as an HDF5 file via `model.save()`. This file format is considered legacy. We recommend using instead the native Keras format, e.g. `model.save('my_model.keras')`.\n",
            "  saving_api.save_model(\n"
          ]
        },
        {
          "output_type": "stream",
          "name": "stdout",
          "text": [
            "328/329 [============================>.] - ETA: 0s - loss: 0.1253 - accuracy: 0.9622\n",
            "Epoch 2: val_accuracy improved from 0.97322 to 0.98022, saving model to ./Final_mnist.h5\n",
            "329/329 [==============================] - 46s 141ms/step - loss: 0.1253 - accuracy: 0.9622 - val_loss: 0.0675 - val_accuracy: 0.9802\n",
            "Epoch 3/10\n",
            "328/329 [============================>.] - ETA: 0s - loss: 0.0932 - accuracy: 0.9715\n",
            "Epoch 3: val_accuracy improved from 0.98022 to 0.98383, saving model to ./Final_mnist.h5\n",
            "329/329 [==============================] - 42s 127ms/step - loss: 0.0932 - accuracy: 0.9715 - val_loss: 0.0545 - val_accuracy: 0.9838\n",
            "Epoch 4/10\n",
            "328/329 [============================>.] - ETA: 0s - loss: 0.0755 - accuracy: 0.9778\n",
            "Epoch 4: val_accuracy improved from 0.98383 to 0.98667, saving model to ./Final_mnist.h5\n",
            "329/329 [==============================] - 42s 126ms/step - loss: 0.0755 - accuracy: 0.9778 - val_loss: 0.0457 - val_accuracy: 0.9867\n",
            "Epoch 5/10\n",
            "328/329 [============================>.] - ETA: 0s - loss: 0.0671 - accuracy: 0.9791\n",
            "Epoch 5: val_accuracy did not improve from 0.98667\n",
            "329/329 [==============================] - 42s 129ms/step - loss: 0.0671 - accuracy: 0.9791 - val_loss: 0.0459 - val_accuracy: 0.9859\n",
            "Epoch 6/10\n",
            "328/329 [============================>.] - ETA: 0s - loss: 0.0582 - accuracy: 0.9821\n",
            "Epoch 6: val_accuracy improved from 0.98667 to 0.98739, saving model to ./Final_mnist.h5\n",
            "329/329 [==============================] - 39s 119ms/step - loss: 0.0582 - accuracy: 0.9821 - val_loss: 0.0419 - val_accuracy: 0.9874\n",
            "Epoch 7/10\n",
            "328/329 [============================>.] - ETA: 0s - loss: 0.0531 - accuracy: 0.9836\n",
            "Epoch 7: val_accuracy did not improve from 0.98739\n",
            "329/329 [==============================] - 48s 145ms/step - loss: 0.0531 - accuracy: 0.9836 - val_loss: 0.0407 - val_accuracy: 0.9874\n",
            "Epoch 7: early stopping\n",
            "313/313 [==============================] - 3s 8ms/step - loss: 0.0316 - accuracy: 0.9893\n",
            "The model accuracy is 0.989300012588501\n"
          ]
        },
        {
          "output_type": "display_data",
          "data": {
            "text/plain": [
              "<Figure size 640x480 with 1 Axes>"
            ],
            "image/png": "[encoded data removed]"
          },
          "metadata": {}
        }
      ]
    },
    {
      "cell_type": "markdown",
      "source": [
        "#Prediction using Model"
      ],
      "metadata": {
        "id": "JAq1Md6tzbuV"
      }
    },
    {
      "cell_type": "code",
      "source": [
        "from numpy import argmax\n",
        "from keras.preprocessing.image import load_img\n",
        "from keras.preprocessing.image import img_to_array\n",
        "from keras.models import load_model\n",
        "\n"
      ],
      "metadata": {
        "id": "RSx86vIJ1VFJ"
      },
      "execution_count": null,
      "outputs": []
    },
    {
      "cell_type": "code",
      "source": [
        "# load and prepare the image\n",
        "def load_image(filename):\n",
        "\t# load the image\n",
        "\timg = load_img(filename, grayscale=True, target_size=(28, 28))\n",
        "\t# convert to array\n",
        "\timg = img_to_array(img)\n",
        "\t# reshape into a single sample with 1 channel\n",
        "\timg = img.reshape(1, 28, 28, 1)\n",
        "\t# prepare pixel data\n",
        "\timg = img.astype('float32')\n",
        "\timg = img / 255.0\n",
        "\treturn img\n",
        "\n"
      ],
      "metadata": {
        "id": "LRhbXr8yzXzG"
      },
      "execution_count": null,
      "outputs": []
    },
    {
      "cell_type": "markdown",
      "source": [
        "Class Prediction and result"
      ],
      "metadata": {
        "id": "NOWQC8-Hzw13"
      }
    },
    {
      "cell_type": "code",
      "source": [
        "# load an image and predict the class\n",
        "def run_example():\n",
        "\t# load the image\n",
        "\timg = load_image('paint_1.png')\n",
        "\t# load model\n",
        "\tmodel = load_model('Final_mnist.h5')\n",
        "\t# predict the class\n",
        "\tpredict_value = model.predict(img)\n",
        "\tdigit = argmax(predict_value)\n",
        "\tprint(digit)\n",
        "\n",
        "# entry point, run the example\n",
        "run_example()"
      ],
      "metadata": {
        "colab": {
          "base_uri": "https://localhost:8080/"
        },
        "id": "s6rZScOBzxP_",
        "outputId": "9105c317-8aaa-432e-c844-3039e1cb3e69"
      },
      "execution_count": null,
      "outputs": [
        {
          "output_type": "stream",
          "name": "stdout",
          "text": [
            "1/1 [==============================] - 0s 74ms/step\n",
            "4\n"
          ]
        }
      ]
    }
  ]
}